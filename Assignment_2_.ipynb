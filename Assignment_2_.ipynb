{
  "nbformat": 4,
  "nbformat_minor": 0,
  "metadata": {
    "colab": {
      "provenance": []
    },
    "kernelspec": {
      "name": "python3",
      "display_name": "Python 3"
    },
    "language_info": {
      "name": "python"
    }
  },
  "cells": [
    {
      "cell_type": "code",
      "execution_count": null,
      "metadata": {
        "colab": {
          "base_uri": "https://localhost:8080/"
        },
        "id": "OcDn8WiQ-WOu",
        "outputId": "e4c4a388-6434-4253-cbf6-41994d368131"
      },
      "outputs": [
        {
          "output_type": "stream",
          "name": "stdout",
          "text": [
            "a. 99% Confidence Interval using sample standard deviation:\n",
            "   Mean: 1.2387, Std Dev (sample): 0.1932\n",
            "   CI: (1.090, 1.387)\n",
            "\n",
            "b. 99% Confidence Interval using known population standard deviation:\n",
            "   Mean: 1.2387, Pop Std Dev: 0.2000\n",
            "   CI: (1.106, 1.372)\n"
          ]
        }
      ],
      "source": [
        "import numpy as np\n",
        "import scipy.stats as stats\n",
        "\n",
        "# Given sample data\n",
        "data = [1.13, 1.55, 1.43, 0.92, 1.25, 1.36, 1.32, 0.85, 1.07, 1.48, 1.20, 1.33, 1.18, 1.22, 1.29]\n",
        "\n",
        "# Sample size\n",
        "n = len(data)\n",
        "\n",
        "# Sample mean and standard deviation\n",
        "sample_mean = np.mean(data)\n",
        "sample_std = np.std(data, ddof=1)  # ddof=1 for sample std\n",
        "\n",
        "# Confidence level\n",
        "confidence = 0.99\n",
        "\n",
        "# -----------------------------\n",
        "# a. Confidence Interval using t-distribution\n",
        "# -----------------------------\n",
        "alpha = 1 - confidence\n",
        "df = n - 1  # degrees of freedom\n",
        "t_crit = stats.t.ppf(1 - alpha / 2, df)\n",
        "\n",
        "# Margin of error\n",
        "margin_error_t = t_crit * (sample_std / np.sqrt(n))\n",
        "\n",
        "# Confidence interval\n",
        "ci_t = (sample_mean - margin_error_t, sample_mean + margin_error_t)\n",
        "\n",
        "print(\"a. 99% Confidence Interval using sample standard deviation:\")\n",
        "print(f\"   Mean: {sample_mean:.4f}, Std Dev (sample): {sample_std:.4f}\")\n",
        "print(f\"   CI: ({ci_t[0]:.3f}, {ci_t[1]:.3f})\")\n",
        "\n",
        "# -----------------------------\n",
        "# b. Confidence Interval using known population std dev (z-distribution)\n",
        "# -----------------------------\n",
        "pop_std = 0.2  # known population standard deviation\n",
        "z_crit = stats.norm.ppf(1 - alpha / 2)\n",
        "\n",
        "# Margin of error\n",
        "margin_error_z = z_crit * (pop_std / np.sqrt(n))\n",
        "\n",
        "# Confidence interval\n",
        "ci_z = (sample_mean - margin_error_z, sample_mean + margin_error_z)\n",
        "\n",
        "print(\"\\nb. 99% Confidence Interval using known population standard deviation:\")\n",
        "print(f\"   Mean: {sample_mean:.4f}, Pop Std Dev: {pop_std:.4f}\")\n",
        "print(f\"   CI: ({ci_z[0]:.3f}, {ci_z[1]:.3f})\")\n"
      ]
    }
  ]
}