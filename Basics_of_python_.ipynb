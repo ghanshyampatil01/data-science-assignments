{
  "cells": [
    {
      "cell_type": "code",
      "source": [
        "# Exercise 1 – Prime Number Checker\n",
        "def is_prime(n: int) -> bool:\n",
        "    \"\"\"\n",
        "    Return True if n is a prime number, else False.\n",
        "\n",
        "    A prime number is a natural number > 1 that has no\n",
        "    positive divisors other than 1 and itself.\n",
        "    \"\"\"\n",
        "    if n <= 1:\n",
        "        return False\n",
        "    if n in (2, 3):\n",
        "        return True\n",
        "    if n % 2 == 0 or n % 3 == 0:\n",
        "        return False\n",
        "\n",
        "    # 6k ± 1 test (fast enough for typical assignments)\n",
        "    k = 5\n",
        "    while k * k <= n:\n",
        "        if n % k == 0 or n % (k + 2) == 0:\n",
        "            return False\n",
        "        k += 6\n",
        "    return True\n",
        "\n",
        "\n",
        "for candidate in [10, 0, 1, 2, 17, 20, 97]:\n",
        "    print(f\"{candidate:>3} ➜ {is_prime(candidate)}\")\n"
      ],
      "metadata": {
        "id": "IgQJ3AyyoEjt",
        "colab": {
          "base_uri": "https://localhost:8080/"
        },
        "outputId": "a219c295-eac9-4dd3-939b-8dde73829591"
      },
      "execution_count": 3,
      "outputs": [
        {
          "output_type": "stream",
          "name": "stdout",
          "text": [
            " 10 ➜ False\n",
            "  0 ➜ False\n",
            "  1 ➜ False\n",
            "  2 ➜ True\n",
            " 17 ➜ True\n",
            " 20 ➜ False\n",
            " 97 ➜ True\n"
          ]
        }
      ]
    },
    {
      "cell_type": "code",
      "source": [
        "# Exercise 2 – Product of Random Numbers\n",
        "import random\n",
        "\n",
        "def product_quiz(low: int = 1, high: int = 10) -> None:\n",
        "    \"\"\"\n",
        "    Generate two random integers in [low, high], ask the user\n",
        "    for their product, and say whether they are correct.\n",
        "    \"\"\"\n",
        "    a = random.randint(low, high)\n",
        "    b = random.randint(low, high)\n",
        "\n",
        "    print(f\"\\n🤔  What is {a} × {b}?\")\n",
        "    try:\n",
        "        guess = int(input(\"Your answer: \"))\n",
        "    except ValueError:\n",
        "        print(\"❌  Please enter an integer next time.\")\n",
        "        return\n",
        "\n",
        "    correct = a * b\n",
        "    if guess == correct:\n",
        "        print(\"✅  Correct! Well done.\")\n",
        "    else:\n",
        "        print(f\"❌  Nope. The right answer is {correct}.\")\n",
        "\n",
        "# 🏃‍♂️ run the quiz\n",
        "product_quiz()\n"
      ],
      "metadata": {
        "colab": {
          "base_uri": "https://localhost:8080/"
        },
        "id": "PQ1KeRkb1mpz",
        "outputId": "09e24b48-1d9d-4cbc-e7e5-164557a3fa27"
      },
      "execution_count": 4,
      "outputs": [
        {
          "output_type": "stream",
          "name": "stdout",
          "text": [
            "\n",
            "🤔  What is 10 × 1?\n",
            "Your answer: 10\n",
            "✅  Correct! Well done.\n"
          ]
        }
      ]
    },
    {
      "cell_type": "code",
      "source": [
        "# Exercise 3 – Squares of Even Numbers from 100 to 200\n",
        "\n",
        "CHOICE = \"even\"   # ← change to \"odd\" if you prefer\n",
        "\n",
        "start, end = 100, 200\n",
        "numbers = range(start, end + 1)\n",
        "\n",
        "if CHOICE.lower() not in (\"even\", \"odd\"):\n",
        "    raise ValueError(\"CHOICE must be 'even' or 'odd'\")\n",
        "\n",
        "selected = [n for n in numbers if (n % 2 == 0) == (CHOICE == \"even\")]\n",
        "squares  = {n: n * n for n in selected}\n",
        "\n",
        "print(f\"Squares of {CHOICE} numbers between {start} and {end}:\")\n",
        "for n, sq in squares.items():\n",
        "    print(f\"{n:3}² = {sq}\")\n"
      ],
      "metadata": {
        "colab": {
          "base_uri": "https://localhost:8080/"
        },
        "id": "3oFTYZFr12TF",
        "outputId": "4004dc86-a4b3-47c1-b627-776ef2aba2db"
      },
      "execution_count": 5,
      "outputs": [
        {
          "output_type": "stream",
          "name": "stdout",
          "text": [
            "Squares of even numbers between 100 and 200:\n",
            "100² = 10000\n",
            "102² = 10404\n",
            "104² = 10816\n",
            "106² = 11236\n",
            "108² = 11664\n",
            "110² = 12100\n",
            "112² = 12544\n",
            "114² = 12996\n",
            "116² = 13456\n",
            "118² = 13924\n",
            "120² = 14400\n",
            "122² = 14884\n",
            "124² = 15376\n",
            "126² = 15876\n",
            "128² = 16384\n",
            "130² = 16900\n",
            "132² = 17424\n",
            "134² = 17956\n",
            "136² = 18496\n",
            "138² = 19044\n",
            "140² = 19600\n",
            "142² = 20164\n",
            "144² = 20736\n",
            "146² = 21316\n",
            "148² = 21904\n",
            "150² = 22500\n",
            "152² = 23104\n",
            "154² = 23716\n",
            "156² = 24336\n",
            "158² = 24964\n",
            "160² = 25600\n",
            "162² = 26244\n",
            "164² = 26896\n",
            "166² = 27556\n",
            "168² = 28224\n",
            "170² = 28900\n",
            "172² = 29584\n",
            "174² = 30276\n",
            "176² = 30976\n",
            "178² = 31684\n",
            "180² = 32400\n",
            "182² = 33124\n",
            "184² = 33856\n",
            "186² = 34596\n",
            "188² = 35344\n",
            "190² = 36100\n",
            "192² = 36864\n",
            "194² = 37636\n",
            "196² = 38416\n",
            "198² = 39204\n",
            "200² = 40000\n"
          ]
        }
      ]
    },
    {
      "cell_type": "code",
      "source": [
        "# Exercise 4 – Word Counter\n",
        "import re\n",
        "from collections import Counter\n",
        "\n",
        "def word_counter(text: str, ignore_case: bool = True) -> Counter:\n",
        "    \"\"\"\n",
        "    Count occurrences of each word in 'text'.\n",
        "    Splits on whitespace; keeps punctuation as‑is to match the example.\n",
        "    \"\"\"\n",
        "    words = text.split()\n",
        "    if ignore_case:\n",
        "        words = [w.lower() for w in words]\n",
        "\n",
        "    return Counter(words)\n",
        "\n",
        "# 📝 example from the prompt\n",
        "input_text = (\n",
        "    \"This is a sample text. \"\n",
        "    \"This text will be used to demonstrate the word counter.\"\n",
        ")\n",
        "counts = word_counter(input_text, ignore_case=False)  # match example exactly\n",
        "for word, freq in counts.items():\n",
        "    print(f\"'{word}': {freq}\")\n"
      ],
      "metadata": {
        "colab": {
          "base_uri": "https://localhost:8080/"
        },
        "id": "joysDHAM2BiQ",
        "outputId": "7d649064-cb65-4d07-cdbb-33dc9faa68a4"
      },
      "execution_count": 6,
      "outputs": [
        {
          "output_type": "stream",
          "name": "stdout",
          "text": [
            "'This': 2\n",
            "'is': 1\n",
            "'a': 1\n",
            "'sample': 1\n",
            "'text.': 1\n",
            "'text': 1\n",
            "'will': 1\n",
            "'be': 1\n",
            "'used': 1\n",
            "'to': 1\n",
            "'demonstrate': 1\n",
            "'the': 1\n",
            "'word': 1\n",
            "'counter.': 1\n"
          ]
        }
      ]
    },
    {
      "cell_type": "code",
      "source": [
        "# Exercise 5 – Palindrome Checker\n",
        "import string\n",
        "\n",
        "def is_palindrome(s: str) -> bool:\n",
        "    \"\"\"\n",
        "    Return True if 's' is a palindrome, ignoring\n",
        "    spaces, punctuation, and capitalization.\n",
        "    \"\"\"\n",
        "    # Remove non‑alphanumeric characters and lowercase everything\n",
        "    cleaned = \"\".join(ch.lower() for ch in s if ch.isalnum())\n",
        "    return cleaned == cleaned[::-1]\n",
        "\n",
        "# ✔️ quick tests\n",
        "tests = [\"racecar\", \"No lemon, no melon\", \"Python\"]\n",
        "for t in tests:\n",
        "    print(f\"'{t}': {is_palindrome(t)}\")\n"
      ],
      "metadata": {
        "colab": {
          "base_uri": "https://localhost:8080/"
        },
        "id": "XeTqCRvd2Htc",
        "outputId": "eca402bb-4536-4f94-8cef-13f034a1a045"
      },
      "execution_count": 7,
      "outputs": [
        {
          "output_type": "stream",
          "name": "stdout",
          "text": [
            "'racecar': True\n",
            "'No lemon, no melon': True\n",
            "'Python': False\n"
          ]
        }
      ]
    }
  ],
  "metadata": {
    "colab": {
      "provenance": []
    },
    "kernelspec": {
      "display_name": "Python 3",
      "name": "python3"
    },
    "language_info": {
      "name": "python"
    }
  },
  "nbformat": 4,
  "nbformat_minor": 0
}